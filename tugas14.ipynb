{
 "cells": [
  {
   "cell_type": "code",
   "execution_count": 43,
   "id": "9ee325f3-70e3-44c6-8912-3046474261d3",
   "metadata": {},
   "outputs": [],
   "source": [
    "datalist = []\n",
    "class MinimalDigit(Exception):\n",
    "    pass"
   ]
  },
  {
   "cell_type": "code",
   "execution_count": 44,
   "id": "17395a51-d371-41f1-b25a-d80d2cda66fc",
   "metadata": {},
   "outputs": [],
   "source": [
    "def addStudent():\n",
    "    id_student = input(\"Masukan ID Mahasiswa:\")\n",
    "    if len(id_student) != 11:\n",
    "        raise MinimalDigit(\"Harus 11 Digit\")\n",
    "    name_student = input(\"Masukan Nama Mahasiswa:\")\n",
    "    if len(name_student) < 6:\n",
    "        raise MinimalDigit(\"Minimal Harus 6 Huruf\")\n",
    "    address_student = input(\"Masukan Alamat Mahasiswa:\")\n",
    "    if len(address_student) < 10:\n",
    "        raise MinimalDigit(\"Minimal Harus 10 Huruf\")\n",
    "    class_student = input(\"Masukan Kelas (TI23/TI24):\")\n",
    "    if class_student != \"TI23\" and class_student != \"TI24\":\n",
    "        raise MinimalDigit(\"Harus TI23/TI24\")\n",
    "    temp = {\"Nim\": id_student,\"nama\": name_student,\"alamat\": address_student,\"kelas\": class_student}\n",
    "    datalist.append(temp)"
   ]
  },
  {
   "cell_type": "code",
   "execution_count": 45,
   "id": "b54f25ed-dcdb-4c70-970c-bfcb983f6fbf",
   "metadata": {},
   "outputs": [],
   "source": [
    "def readStudent():\n",
    "    print(datalist)"
   ]
  },
  {
   "cell_type": "code",
   "execution_count": 42,
   "id": "497a616c-e887-4993-a18e-14a13b495390",
   "metadata": {},
   "outputs": [
    {
     "name": "stdout",
     "output_type": "stream",
     "text": [
      "---Menu--- \n",
      "\n",
      "1.Tambahkan Mahasiswa \n",
      "2.Tampilkan Seluruh Mahasiswa \n",
      "3.Keluar\n"
     ]
    },
    {
     "name": "stdin",
     "output_type": "stream",
     "text": [
      " 1\n",
      "Masukan ID Mahasiswa: 12345678901\n",
      "Masukan Nama Mahasiswa: cisaatotot\n",
      "Masukan Alamat Mahasiswa: cisaatotot\n",
      "Masukan Kelas (TI23/TI24): TI23\n"
     ]
    },
    {
     "name": "stdout",
     "output_type": "stream",
     "text": [
      "---Menu--- \n",
      "\n",
      "1.Tambahkan Mahasiswa \n",
      "2.Tampilkan Seluruh Mahasiswa \n",
      "3.Keluar\n"
     ]
    },
    {
     "name": "stdin",
     "output_type": "stream",
     "text": [
      " 2\n"
     ]
    },
    {
     "name": "stdout",
     "output_type": "stream",
     "text": [
      "[{'Nim': '12345678901', 'nama': 'cisaatotot', 'alamat': 'cisaatotot', 'kelas': 'TI23'}]\n",
      "---Menu--- \n",
      "\n",
      "1.Tambahkan Mahasiswa \n",
      "2.Tampilkan Seluruh Mahasiswa \n",
      "3.Keluar\n"
     ]
    },
    {
     "name": "stdin",
     "output_type": "stream",
     "text": [
      " 3\n"
     ]
    }
   ],
   "source": [
    "### i = True\n",
    "while i is True:\n",
    "    try:\n",
    "        print(\"---Menu--- \\n\\n1.Tambahkan Mahasiswa \\n2.Tampilkan Seluruh Mahasiswa \\n3.Keluar\")\n",
    "        pilihan = int(input())\n",
    "        \n",
    "        if pilihan == 1:\n",
    "            addStudent()\n",
    "        \n",
    "        elif pilihan == 2:\n",
    "            readStudent()\n",
    "        \n",
    "        elif pilihan == 3:\n",
    "            i = False\n",
    "        else:\n",
    "            print(\"Masukan angka yang ada di menu (1-3)\")\n",
    "    except (MinimalDigit) as err:\n",
    "        print(\"Terjadi Kesalahan:\", err)\n",
    "    except ValueError:\n",
    "        print(\"Harus Angka\")"
   ]
  },
  {
   "cell_type": "code",
   "execution_count": null,
   "id": "331ac89d-cdb0-4784-a68d-cf8423d36a94",
   "metadata": {},
   "outputs": [],
   "source": []
  }
 ],
 "metadata": {
  "kernelspec": {
   "display_name": "Python 3 (ipykernel)",
   "language": "python",
   "name": "python3"
  },
  "language_info": {
   "codemirror_mode": {
    "name": "ipython",
    "version": 3
   },
   "file_extension": ".py",
   "mimetype": "text/x-python",
   "name": "python",
   "nbconvert_exporter": "python",
   "pygments_lexer": "ipython3",
   "version": "3.12.9"
  }
 },
 "nbformat": 4,
 "nbformat_minor": 5
}
