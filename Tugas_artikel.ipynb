{
 "cells": [
  {
   "cell_type": "code",
   "execution_count": 23,
   "id": "59c64227-0275-4af5-bddd-b82e6a15efdf",
   "metadata": {},
   "outputs": [
    {
     "name": "stdout",
     "output_type": "stream",
     "text": [
      "Hasil gabungan: Devi Rangga Gilang\n"
     ]
    }
   ],
   "source": [
    "#fungsi join digunakan untuk membuat sebuah list menjadi satu kalimat string\n",
    "\n",
    "string1 = [\"Devi\", \"Rangga\", \"Gilang\"]\n",
    "result1 = \" \".join(string1)\n",
    "print(\"Hasil gabungan:\", result1)"
   ]
  },
  {
   "cell_type": "code",
   "execution_count": 24,
   "id": "14a9333b-5379-4dfd-bbff-eb88d8623683",
   "metadata": {},
   "outputs": [
    {
     "name": "stdout",
     "output_type": "stream",
     "text": [
      "Hasil: apple\n"
     ]
    }
   ],
   "source": [
    "#Fungsi lower digunakan jika ingin sebuah kalimat dalam string ingin dirubah kata-kata nya menjadi kecil\n",
    "\n",
    "string2 = \"APPLE\"\n",
    "result2 = string2.lower()\n",
    "print(\"Hasil:\", result2)"
   ]
  },
  {
   "cell_type": "code",
   "execution_count": 25,
   "id": "a3f4a758-5e56-4160-8d39-35792de5a9bc",
   "metadata": {},
   "outputs": [
    {
     "name": "stdout",
     "output_type": "stream",
     "text": [
      "Hasil: MOTOR\n"
     ]
    }
   ],
   "source": [
    "#Kebalikan dari lower, fungsi upper akan membuat semua kalimat menjadi kapital\n",
    "\n",
    "string3 = \"motor\"\n",
    "result3 = string3.upper()\n",
    "print(\"Hasil:\", result3)"
   ]
  },
  {
   "cell_type": "code",
   "execution_count": 31,
   "id": "651efe9c-dc92-41b4-869e-82ac9f9ccd34",
   "metadata": {},
   "outputs": [
    {
     "name": "stdout",
     "output_type": "stream",
     "text": [
      "Hasil: Nusaputra\n"
     ]
    }
   ],
   "source": [
    "#Fungsi strip digunakan untuk menghapus spasi di luar teks di dalam sebuah string\n",
    "\n",
    "string4 = \"   Nusaputra   \"\n",
    "result4 = string4.strip()\n",
    "print(\"Hasil:\", result4)"
   ]
  },
  {
   "cell_type": "code",
   "execution_count": 27,
   "id": "b28645ef-4bae-416d-9a9c-cd1cef176e7a",
   "metadata": {},
   "outputs": [
    {
     "name": "stdout",
     "output_type": "stream",
     "text": [
      "Hasil: Saya belajar Python\n"
     ]
    }
   ],
   "source": [
    "#Fungsi replace tugas nya untuk mengganti sebuat kalimat dalam string (contoh nya Python)\n",
    "#Menjadi kalimat yang diinginkan (contohnya JavaScript)\n",
    "\n",
    "string5 = \"Saya belajar JavaScript\"\n",
    "result5 = string5.replace(\"JavaScript\", \"Python\")\n",
    "print(\"Hasil:\", result5)"
   ]
  },
  {
   "cell_type": "code",
   "execution_count": 28,
   "id": "70f3204a-752b-4718-9ec6-aff6f1e00364",
   "metadata": {},
   "outputs": [
    {
     "name": "stdout",
     "output_type": "stream",
     "text": [
      "String dimulai dengan 'www'\n",
      "String diakhiri dengan '.com'\n"
     ]
    }
   ],
   "source": [
    "#startwith digunakan untuk  mengecek apakah kalimat dalam string di mulai dengna kalimat startwith\n",
    "#Dimana endswith digunakan untuk di akhir kalimat string\n",
    "\n",
    "string6 = \"www.example.com\"\n",
    "if string6.startswith(\"www\"):\n",
    "    print(\"String dimulai dengan 'www'\")\n",
    "if string6.endswith(\".com\"):\n",
    "    print(\"String diakhiri dengan '.com'\")"
   ]
  },
  {
   "cell_type": "code",
   "execution_count": 29,
   "id": "170a6fb5-93db-4374-b2ef-113d8dd54228",
   "metadata": {},
   "outputs": [
    {
     "name": "stdout",
     "output_type": "stream",
     "text": [
      "Hasil split: ['Devi', 'Rangga', 'Gilang']\n"
     ]
    }
   ],
   "source": [
    "#split adalah sebuah fungsi kalimat string di pisah dan menjadi list dengan kondisi jika ada koma\n",
    "#lalu meghilangkan koma tersebut\n",
    "\n",
    "string7 = \"Devi,Rangga,Gilang\"\n",
    "result7 = string7.split(\",\")\n",
    "print(\"Hasil split:\", result7)"
   ]
  },
  {
   "cell_type": "code",
   "execution_count": 15,
   "id": "7d27c087-3069-48f0-b71c-91ae7ddd8662",
   "metadata": {},
   "outputs": [
    {
     "name": "stdin",
     "output_type": "stream",
     "text": [
      "Masukkan nama Anda:  Devi\n"
     ]
    },
    {
     "name": "stdout",
     "output_type": "stream",
     "text": [
      "Halo, Devi ! Selamat datang!\n"
     ]
    }
   ],
   "source": [
    "# Menerima input string dari pengguna\n",
    "nama = input(\"Masukkan nama Anda: \")\n",
    "print(\"Halo,\", nama, \"! Selamat datang!\")\n"
   ]
  },
  {
   "cell_type": "code",
   "execution_count": 17,
   "id": "ef220e45-9ed6-49e5-ba4b-7732ccd60e81",
   "metadata": {},
   "outputs": [
    {
     "name": "stdout",
     "output_type": "stream",
     "text": [
      "Selamat belajar Devi\n"
     ]
    }
   ],
   "source": [
    "# Menampilkan string\n",
    "nama = \"Devi\"\n",
    "print(\"Selamat belajar\", nama)\n"
   ]
  },
  {
   "cell_type": "code",
   "execution_count": 20,
   "id": "5cf6c6c2-2277-4481-aa81-a7fb0cbdcb84",
   "metadata": {},
   "outputs": [
    {
     "name": "stdin",
     "output_type": "stream",
     "text": [
      "Masukkan nama lengkap Anda:  Devi Rangga Gilang\n"
     ]
    },
    {
     "name": "stdout",
     "output_type": "stream",
     "text": [
      "Halo, Devi Rangga Gilang!.\n"
     ]
    }
   ],
   "source": [
    "# Menerima input dan menampilkan hasil\n",
    "nama = input(\"Masukkan nama lengkap Anda: \")\n",
    "pesan = f\"Halo, {nama}!.\"\n",
    "print(pesan)"
   ]
  },
  {
   "cell_type": "code",
   "execution_count": 21,
   "id": "d9903c43-785b-442d-8286-ee3532b525ac",
   "metadata": {},
   "outputs": [
    {
     "name": "stdin",
     "output_type": "stream",
     "text": [
      "Masukkan teks:  Anggur\n"
     ]
    },
    {
     "name": "stdout",
     "output_type": "stream",
     "text": [
      "Teks dalam huruf besar: ANGGUR\n",
      "Teks dalam huruf kecil: anggur\n",
      "Panjang teks: 6\n"
     ]
    }
   ],
   "source": [
    "# Pengolahan string\n",
    "teks = input(\"Masukkan teks: \")\n",
    "print(\"Teks dalam huruf besar:\", teks.upper())\n",
    "print(\"Teks dalam huruf kecil:\", teks.lower())\n",
    "print(\"Panjang teks:\", len(teks))"
   ]
  },
  {
   "cell_type": "code",
   "execution_count": 22,
   "id": "0ebf8bd4-4603-454c-999c-dfff8e593f44",
   "metadata": {},
   "outputs": [
    {
     "name": "stdin",
     "output_type": "stream",
     "text": [
      "Masukkan teks yang ingin disimpan:  Python\n"
     ]
    },
    {
     "name": "stdout",
     "output_type": "stream",
     "text": [
      "Teks telah disimpan ke dalam file 'output.txt'\n"
     ]
    }
   ],
   "source": [
    "# Menyimpan input string ke dalam file\n",
    "teks = input(\"Masukkan teks yang ingin disimpan: \")\n",
    "with open(\"output.txt\", \"w\") as file:\n",
    "    file.write(teks)\n",
    "print(\"Teks telah disimpan ke dalam file 'output.txt'\")"
   ]
  },
  {
   "cell_type": "code",
   "execution_count": null,
   "id": "6acc7c08-bdbb-4e85-9e6d-d2c102e3a224",
   "metadata": {},
   "outputs": [],
   "source": []
  }
 ],
 "metadata": {
  "kernelspec": {
   "display_name": "Python 3 (ipykernel)",
   "language": "python",
   "name": "python3"
  },
  "language_info": {
   "codemirror_mode": {
    "name": "ipython",
    "version": 3
   },
   "file_extension": ".py",
   "mimetype": "text/x-python",
   "name": "python",
   "nbconvert_exporter": "python",
   "pygments_lexer": "ipython3",
   "version": "3.12.9"
  }
 },
 "nbformat": 4,
 "nbformat_minor": 5
}
