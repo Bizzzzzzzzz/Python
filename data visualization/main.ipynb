{
 "cells": [
  {
   "cell_type": "code",
   "execution_count": 2,
   "id": "12e2d2f7-3101-4c5c-b704-e2cc35a53b6e",
   "metadata": {},
   "outputs": [],
   "source": [
    "import pandas as pd\n",
    "import matplotlib.pyplot as plt"
   ]
  },
  {
   "cell_type": "code",
   "execution_count": 10,
   "id": "796d0e52-fde3-4362-9a6b-c0a8d3ed86f0",
   "metadata": {},
   "outputs": [
    {
     "name": "stdout",
     "output_type": "stream",
     "text": [
      "<class 'pandas.core.frame.DataFrame'>\n",
      "RangeIndex: 4001 entries, 0 to 4000\n",
      "Data columns (total 9 columns):\n",
      " #   Column       Non-Null Count  Dtype  \n",
      "---  ------       --------------  -----  \n",
      " 0   A_id         4000 non-null   float64\n",
      " 1   Size         4000 non-null   float64\n",
      " 2   Weight       4000 non-null   float64\n",
      " 3   Sweetness    4000 non-null   float64\n",
      " 4   Crunchiness  4000 non-null   float64\n",
      " 5   Juiciness    4000 non-null   float64\n",
      " 6   Ripeness     4000 non-null   float64\n",
      " 7   Acidity      4001 non-null   object \n",
      " 8   Quality      4000 non-null   object \n",
      "dtypes: float64(7), object(2)\n",
      "memory usage: 281.4+ KB\n",
      "None\n",
      "   A_id      Size    Weight  Sweetness  Crunchiness  Juiciness  Ripeness  \\\n",
      "0   0.0 -3.970049 -2.512336   5.346330    -1.012009   1.844900  0.329840   \n",
      "1   1.0 -1.195217 -2.839257   3.664059     1.588232   0.853286  0.867530   \n",
      "2   2.0 -0.292024 -1.351282  -1.738429    -0.342616   2.838636 -0.038033   \n",
      "3   3.0 -0.657196 -2.271627   1.324874    -0.097875   3.637970 -3.413761   \n",
      "4   4.0  1.364217 -1.296612  -0.384658    -0.553006   3.030874 -1.303849   \n",
      "\n",
      "        Acidity Quality  \n",
      "0  -0.491590483    good  \n",
      "1  -0.722809367    good  \n",
      "2   2.621636473     bad  \n",
      "3   0.790723217    good  \n",
      "4   0.501984036    good  \n",
      "Index(['A_id', 'Size', 'Weight', 'Sweetness', 'Crunchiness', 'Juiciness',\n",
      "       'Ripeness', 'Acidity', 'Quality'],\n",
      "      dtype='object')\n",
      "done\n"
     ]
    }
   ],
   "source": [
    "try:\n",
    "    df = pd.read_csv(\"apple_quality.csv\")\n",
    "    print(df.info())\n",
    "    print(df.head())\n",
    "    print(df.columns)\n",
    "except:\n",
    "    print(\"Something is Wrong\")\n",
    "else:\n",
    "    print(\"done\")"
   ]
  },
  {
   "cell_type": "markdown",
   "id": "cbd7e9c3-6bf2-4a91-9de0-afd0c8b88a03",
   "metadata": {},
   "source": [
    "<table>\n",
    "    <thead>\n",
    "        <tr>\n",
    "            <th>Pertanyaan</th>\n",
    "        </tr>\n",
    "    </thead>\n",
    "    <tbody>\n",
    "        <tr>\n",
    "            <th>Berapa rata-rata ukuran, berat, dan tingkat kemanisan apel?</th>\n",
    "            <th>Apakah ada korelasi antara tingkat kemanisan dan kualitas apel?</th>\n",
    "            <th>Apakah apel dengan tingkat kerenyahan yang lebih tinggi cenderung memiliki kualitas yang lebih baik?</th>\n",
    "            <th>Bisakah apel dikelompokkan berdasarkan atribut seperti kemanisan, kerenyahan, dan kejuicyan?</th>\n",
    "            <th>Apa karakteristik apel berkualitas baik dibandingkan dengan yang buruk?</th>\n",
    "        </tr>\n",
    "    </tbody>\n",
    "</table>"
   ]
  },
  {
   "cell_type": "code",
   "execution_count": null,
   "id": "fb76ed83-1761-4e33-b300-636e4d6b5a0c",
   "metadata": {},
   "outputs": [],
   "source": []
  }
 ],
 "metadata": {
  "kernelspec": {
   "display_name": "Python 3 (ipykernel)",
   "language": "python",
   "name": "python3"
  },
  "language_info": {
   "codemirror_mode": {
    "name": "ipython",
    "version": 3
   },
   "file_extension": ".py",
   "mimetype": "text/x-python",
   "name": "python",
   "nbconvert_exporter": "python",
   "pygments_lexer": "ipython3",
   "version": "3.12.9"
  }
 },
 "nbformat": 4,
 "nbformat_minor": 5
}
