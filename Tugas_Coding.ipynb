{
 "cells": [
  {
   "cell_type": "markdown",
   "id": "18788b80-b6cd-4df1-8eb3-3cbbbf2e3453",
   "metadata": {},
   "source": [
    "<h1>Operator Aritmatika</h1>"
   ]
  },
  {
   "cell_type": "code",
   "execution_count": 6,
   "id": "6d68441a-a386-4fbb-b594-99a71871d834",
   "metadata": {},
   "outputs": [
    {
     "name": "stdout",
     "output_type": "stream",
     "text": [
      "budi memiliki 12 apel\n",
      "tiap teman budi mendapatkan 3 apel untuk 4 teman nya\n",
      "jika budi mendapatkan tambahan 8 apel, berarti budi mempunyai 20\n"
     ]
    }
   ],
   "source": [
    "apel = 12\n",
    "teman = 4\n",
    "apelBagi = 12 // 4\n",
    "print(\"budi memiliki\",apel,\"apel\")\n",
    "print(\"tiap teman budi mendapatkan\",apelBagi,\"apel untuk 4 teman nya\")\n",
    "print(\"jika budi mendapatkan tambahan 8 apel, berarti budi mempunyai\",apel + 8)"
   ]
  },
  {
   "cell_type": "markdown",
   "id": "8e9e817a-6b05-4520-bbb1-fd8d01d1dc36",
   "metadata": {},
   "source": [
    "<h1>Operator Perbandingan</h1>"
   ]
  },
  {
   "cell_type": "code",
   "execution_count": 8,
   "id": "ed75775e-656a-40dc-b570-7800b48e0b81",
   "metadata": {},
   "outputs": [
    {
     "name": "stdout",
     "output_type": "stream",
     "text": [
      "apakah siti dan andi memiliki tinggi yang sama? : False\n",
      "apakah siti dan andi memiliki tinggi yang tidak sama? : True\n",
      "apakah siti memiliki tinggi badan lebih besar daripada andi? : False\n",
      "apakah siti memiliki tinngi badan lebih kecil daripada andi? : True\n",
      "apakah siti memiliki tinggi yang lebih besar sama dengan andi? : False\n",
      "apakah siti memiliki tinggi badan yang lebih kecil sama dengan andi? : True\n"
     ]
    }
   ],
   "source": [
    "siti = 160\n",
    "andi = 165\n",
    "\n",
    "print(\"apakah siti dan andi memiliki tinggi yang sama? :\",siti==andi)\n",
    "print(\"apakah siti dan andi memiliki tinggi yang tidak sama? :\",siti!=andi)\n",
    "print(\"apakah siti memiliki tinggi badan lebih besar daripada andi? :\",siti>andi)\n",
    "print(\"apakah siti memiliki tinngi badan lebih kecil daripada andi? :\",siti<andi)\n",
    "print(\"apakah siti memiliki tinggi yang lebih besar sama dengan andi? :\",siti>=andi)\n",
    "print(\"apakah siti memiliki tinggi badan yang lebih kecil sama dengan andi? :\",siti<=andi)"
   ]
  },
  {
   "cell_type": "markdown",
   "id": "ff2998ea-56d2-4952-807f-bb8e7c8a447e",
   "metadata": {},
   "source": [
    "<h1>Operator Logika</h1>"
   ]
  },
  {
   "cell_type": "code",
   "execution_count": 39,
   "id": "ab7b8afe-b618-476a-b6e3-f65d41e8007d",
   "metadata": {},
   "outputs": [
    {
     "name": "stdin",
     "output_type": "stream",
     "text": [
      "apakah PR sudah Selesai? (True/False) : False\n",
      "apakah cuaca cerah? (True/False) : False\n"
     ]
    },
    {
     "name": "stdout",
     "output_type": "stream",
     "text": [
      "apakah budi akan bermain? : Jangan\n"
     ]
    }
   ],
   "source": [
    "isHomeworkDone = input(\"apakah PR sudah Selesai? (True/False) :\")\n",
    "isWeatherClear = input(\"apakah cuaca cerah? (True/False) :\")\n",
    "\n",
    "if isHomeworkDone == \"True\" and isWeatherClear == \"True\":\n",
    "    budiCanPlay = \"Boleh\"\n",
    "else:\n",
    "    budiCanPlay = \"Jangan\"\n",
    "\n",
    "print(\"apakah budi akan bermain? :\",budiCanPlay)"
   ]
  },
  {
   "cell_type": "markdown",
   "id": "519f17f8-2bea-4245-960b-f26ca6a72785",
   "metadata": {},
   "source": [
    "<h1>Operator Bitwise</h1>"
   ]
  },
  {
   "cell_type": "code",
   "execution_count": 41,
   "id": "cf5ae1a6-0407-4627-86e6-1842343d5274",
   "metadata": {},
   "outputs": [
    {
     "name": "stdout",
     "output_type": "stream",
     "text": [
      "2\n",
      "7\n",
      "5\n"
     ]
    }
   ],
   "source": [
    "var1 = 6\n",
    "var2 = 3\n",
    "\n",
    "print(var1 & var2)\n",
    "print(var1 | var2)\n",
    "print(var1 ^ var2)"
   ]
  },
  {
   "cell_type": "markdown",
   "id": "27b6169e-05e8-4016-aa12-6ebb552481cc",
   "metadata": {},
   "source": [
    "<h1>Operator Penugasan</h1>"
   ]
  },
  {
   "cell_type": "code",
   "execution_count": 12,
   "id": "3129b792-97c2-4949-b0d8-2b5a53487c55",
   "metadata": {},
   "outputs": [
    {
     "name": "stdout",
     "output_type": "stream",
     "text": [
      "seorang siswa memiliki saldo 50000\n",
      "lalu mengisi saldo 20rb, yang berarti total saldo menjadi 70000\n",
      "lalu membeli paket internet seharga 30rb, total saldo menjadi 40000\n"
     ]
    }
   ],
   "source": [
    "saldo = 50000\n",
    "\n",
    "print(\"seorang siswa memiliki saldo\",saldo)\n",
    "saldo += 20000\n",
    "print(\"lalu mengisi saldo 20rb, yang berarti total saldo menjadi\",saldo)\n",
    "saldo -= 30000\n",
    "print(\"lalu membeli paket internet seharga 30rb, total saldo menjadi\",saldo)"
   ]
  },
  {
   "cell_type": "markdown",
   "id": "2a6b07d2-9917-4b93-8d04-b29fc1a0e013",
   "metadata": {},
   "source": [
    "<h1>Operator Keanggotaan</h1>"
   ]
  },
  {
   "cell_type": "code",
   "execution_count": 14,
   "id": "cc87dd10-3181-4ff4-9672-139f094be3c4",
   "metadata": {},
   "outputs": [
    {
     "name": "stdout",
     "output_type": "stream",
     "text": [
      "False\n",
      "True\n"
     ]
    }
   ],
   "source": [
    "mahasiswa = [\"Andi\", \"Budi\", \"Citra\", \"Dewi\"]\n",
    "find = \"Eka\"\n",
    "print(find in mahasiswa)\n",
    "\n",
    "sentence = \"Saya suka belajar Python\"\n",
    "find1 = \"Python\"\n",
    "print(find1 in sentence)"
   ]
  },
  {
   "cell_type": "markdown",
   "id": "24772577-e70b-49c2-a0e7-8441a22e23f2",
   "metadata": {},
   "source": [
    "<h1>Operator Identitas</h1>"
   ]
  },
  {
   "cell_type": "code",
   "execution_count": 35,
   "id": "50200267-be79-4072-b1e8-23b27a47a3ef",
   "metadata": {},
   "outputs": [
    {
     "name": "stdout",
     "output_type": "stream",
     "text": [
      "id variable x adalah 140723960228568\n",
      "id variable y adalah 140723960228568\n",
      "apakah x sama dengan y? True\n",
      "id bilanganBulat0 adalah 2839699686656\n",
      "id bilanganBulat1 adalah 2839696129664\n",
      "apakah bilanganBulat0 dan bilanganBulat1 sama? False\n"
     ]
    }
   ],
   "source": [
    "x = 10\n",
    "y = 10\n",
    "print(\"id variable x adalah\",id(x))\n",
    "print(\"id variable y adalah\",id(y))\n",
    "print(\"apakah x sama dengan y?\",x is y)\n",
    "\n",
    "bilanganBulat0 = [1,2,3,4,5]\n",
    "bilanganBulat1 = [1,2,3,4,5]\n",
    "print(\"id bilanganBulat0 adalah\",id(bilanganBulat0))\n",
    "print(\"id bilanganBulat1 adalah\",id(bilanganBulat1))\n",
    "print(\"apakah bilanganBulat0 dan bilanganBulat1 sama?\",bilanganBulat0 is bilanganBulat1)"
   ]
  },
  {
   "cell_type": "markdown",
   "id": "7e99816a-1b8b-4cad-830f-f2b86c80d480",
   "metadata": {},
   "source": [
    "<h1>Operator Ternary</h1>"
   ]
  },
  {
   "cell_type": "code",
   "execution_count": 28,
   "id": "cce4a437-8f56-44e9-b4ea-5945af8eabbe",
   "metadata": {},
   "outputs": [
    {
     "name": "stdin",
     "output_type": "stream",
     "text": [
      "masukan nilai x: 19\n"
     ]
    },
    {
     "name": "stdout",
     "output_type": "stream",
     "text": [
      "bilangan x lebih kecil dari 100\n"
     ]
    }
   ],
   "source": [
    "x = int(input(\"masukan nilai x :\"))\n",
    "y = 100\n",
    "isHigher = \"bilangan x lebih besar dari 100\" if x > y else \"bilangan x lebih kecil dari 100\"\n",
    "print(isHigher)"
   ]
  },
  {
   "cell_type": "code",
   "execution_count": 31,
   "id": "1ba4d764-39d8-43c1-915e-2b572cf4188f",
   "metadata": {},
   "outputs": [
    {
     "name": "stdin",
     "output_type": "stream",
     "text": [
      "masukan nilai matkul : 71\n"
     ]
    },
    {
     "name": "stdout",
     "output_type": "stream",
     "text": [
      "lulus\n"
     ]
    }
   ],
   "source": [
    "x = int(input(\"masukan nilai matkul :\"))\n",
    "y = 70\n",
    "isPass = \"lulus\" if x > y else \"tidak lulus\"\n",
    "print(isPass)"
   ]
  }
 ],
 "metadata": {
  "kernelspec": {
   "display_name": "Python 3 (ipykernel)",
   "language": "python",
   "name": "python3"
  },
  "language_info": {
   "codemirror_mode": {
    "name": "ipython",
    "version": 3
   },
   "file_extension": ".py",
   "mimetype": "text/x-python",
   "name": "python",
   "nbconvert_exporter": "python",
   "pygments_lexer": "ipython3",
   "version": "3.12.9"
  }
 },
 "nbformat": 4,
 "nbformat_minor": 5
}
