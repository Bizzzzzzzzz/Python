{
 "cells": [
  {
   "cell_type": "markdown",
   "id": "5f2911d5-d6f0-4796-bd05-380e78cc96d0",
   "metadata": {},
   "source": [
    "<h1>Biodata</h1>"
   ]
  },
  {
   "cell_type": "code",
   "execution_count": 10,
   "id": "f65b5311-23d7-4ed9-8235-41f6fa4fc226",
   "metadata": {},
   "outputs": [
    {
     "name": "stdin",
     "output_type": "stream",
     "text": [
      "masukan nama anda: dev\n",
      "masukan nama kelas: ti\n",
      "masukan fakultas engi\n",
      "masukan nim 2024\n",
      "masukan semester 2\n"
     ]
    },
    {
     "name": "stdout",
     "output_type": "stream",
     "text": [
      "\n",
      "BIODATA\n",
      " Nama     : dev\n",
      " Kelas    : ti\n",
      " Fakultas : engi\n",
      " NIM       : 2024\n",
      " Semester : 2\n"
     ]
    }
   ],
   "source": [
    "nama = input(\"masukan nama anda:\")\n",
    "kelas = input(\"masukan nama kelas:\")\n",
    "fakultas = input(\"masukan fakultas\")\n",
    "nim = int(input(\"masukan nim\"))\n",
    "semester = int(input(\"masukan semester\"))\n",
    "\n",
    "print(f\"\\nBIODATA\\n Nama     : {nama}\\n Kelas    : {kelas}\\n Fakultas : {fakultas}\\n NIM      : {nim}\\n Semester : {semester}\")"
   ]
  },
  {
   "cell_type": "markdown",
   "id": "c12ee078-28d4-434b-a2a3-7d4273a88609",
   "metadata": {},
   "source": [
    "<h1>Modif</h1>"
   ]
  },
  {
   "cell_type": "code",
   "execution_count": 94,
   "id": "72f4dfd9-90b0-414b-93a3-76f00c842c25",
   "metadata": {},
   "outputs": [
    {
     "name": "stdout",
     "output_type": "stream",
     "text": [
      "a. putra nusa\n",
      "b. NIVERSITAS NSA PTRA SKABMI\n",
      "c. SUKABUMI NUSA PUTRA UNIVERSITAS\n",
      "d. UNPS\n",
      "e. TAS SAPU BUMI\n"
     ]
    }
   ],
   "source": [
    "kalimat = \"UNIVERSITAS NUSA PUTRA SUKABUMI\"\n",
    "\n",
    "if kalimat == \"UNIVERSITAS NUSA PUTRA SUKABUMI\":\n",
    "    splitAndLower = kalimat.split(\" \")\n",
    "    splitAndLower = splitAndLower[1:3]\n",
    "    splitAndLower[0],splitAndLower[1] = splitAndLower[1],splitAndLower[0]\n",
    "    splitAndLower = \" \".join(splitAndLower)\n",
    "    splitAndLower = splitAndLower.lower()\n",
    "    #########################################################\n",
    "    replaceU = kalimat.replace(\"U\", \"\")\n",
    "    #########################################################\n",
    "    threeToOne = kalimat.split(\" \")\n",
    "    threeToOne[0],threeToOne[3] = threeToOne[3],threeToOne[0]\n",
    "    threeToOne = \" \".join(threeToOne)\n",
    "    #########################################################\n",
    "    firstLetter = kalimat.split(\" \")\n",
    "    firstLetter = firstLetter[0][0], firstLetter[1][0], firstLetter[2][0], firstLetter[3][0]\n",
    "    firstLetter = \"\".join(firstLetter)\n",
    "    #########################################################\n",
    "    splice = kalimat[8:11], kalimat[14:19], kalimat[27:31]\n",
    "    splice = splice[0], splice[1].replace(\" \", \"\"), splice[2]\n",
    "    splice = \" \".join(splice)\n",
    "    #########################################################\n",
    "    print(\"a.\",splitAndLower)\n",
    "    print(\"b.\",replaceU)\n",
    "    print(\"c.\",threeToOne)\n",
    "    print(\"d.\",firstLetter)\n",
    "    print(\"e.\",splice)"
   ]
  },
  {
   "cell_type": "code",
   "execution_count": null,
   "id": "b992d97d-7d12-4ae2-abc0-5a692464350f",
   "metadata": {},
   "outputs": [],
   "source": []
  }
 ],
 "metadata": {
  "kernelspec": {
   "display_name": "Python 3 (ipykernel)",
   "language": "python",
   "name": "python3"
  },
  "language_info": {
   "codemirror_mode": {
    "name": "ipython",
    "version": 3
   },
   "file_extension": ".py",
   "mimetype": "text/x-python",
   "name": "python",
   "nbconvert_exporter": "python",
   "pygments_lexer": "ipython3",
   "version": "3.12.9"
  }
 },
 "nbformat": 4,
 "nbformat_minor": 5
}
