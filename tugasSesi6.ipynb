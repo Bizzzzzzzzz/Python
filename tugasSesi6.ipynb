{
 "cells": [
  {
   "cell_type": "markdown",
   "id": "51b95f4c-c621-4219-9472-26d87e2ec22b",
   "metadata": {},
   "source": [
    "<h1>Soal 1</h1>"
   ]
  },
  {
   "cell_type": "code",
   "execution_count": 1,
   "id": "5b00dc79-eb4f-4127-8720-3e3a98342e01",
   "metadata": {},
   "outputs": [
    {
     "name": "stdin",
     "output_type": "stream",
     "text": [
      "Masukan Nilai Coding : 90\n",
      "Masukan Nilai Interview : A\n"
     ]
    },
    {
     "name": "stdout",
     "output_type": "stream",
     "text": [
      "Selamat, Kamu Berhasil Menjadi Calon Programmer\n"
     ]
    }
   ],
   "source": [
    "nilaiCoding = int(input(\"Masukan Nilai Coding :\"))\n",
    "nilaiInterview = input(\"Masukan Nilai Interview :\")\n",
    "hasilCoding = \"\"\n",
    "hasilInterview = \"\"\n",
    "\n",
    "if nilaiCoding > 80:\n",
    "    hasilCoding = \"LOLOS\"\n",
    "elif nilaiCoding > 60:\n",
    "    hasilCoding = \"DIPERTIMBANGKAN\"\n",
    "else:\n",
    "    hasilCoding = \"GAGAL\"\n",
    "\n",
    "if nilaiInterview == \"A\" or nilaiInterview == \"B\":\n",
    "    hasilInterview = \"LOLOS\"\n",
    "else:\n",
    "    hasilInterview = \"GAGAL\"\n",
    "\n",
    "if (hasilCoding == \"LOLOS\" or hasilCoding == \"DIPERTIMBANGKAN\") and hasilInterview == \"LOLOS\":\n",
    "    print(\"Selamat, Kamu Berhasil Menjadi Calon Programmer\")\n",
    "else:\n",
    "    print(\"Maaf, Kamu Belum Berhasil Menjadi Calon Programmer\")"
   ]
  },
  {
   "cell_type": "markdown",
   "id": "6f4342f5-50a4-4dce-82b8-a03f6aab307a",
   "metadata": {},
   "source": [
    "<h1>Soal 2</h1>"
   ]
  },
  {
   "cell_type": "code",
   "execution_count": 2,
   "id": "76e9cb25-1a99-475f-b884-c8f28ba32302",
   "metadata": {},
   "outputs": [
    {
     "name": "stdin",
     "output_type": "stream",
     "text": [
      "Nomor Punggung : 20\n"
     ]
    },
    {
     "name": "stdout",
     "output_type": "stream",
     "text": [
      "kamu mempunyai pilihan posisi : Target Attacker,\n"
     ]
    }
   ],
   "source": [
    "nomorPunggung = int(input(\"Nomor Punggung :\"))\n",
    "posisi = \"\"\n",
    "if nomorPunggung % 2 == 0:\n",
    "    posisi += \"Target Attacker,\"\n",
    "    if nomorPunggung >= 50 and nomorPunggung <= 100:\n",
    "        posisi += \"Berhak dipilih menjadi capten,\"\n",
    "else:\n",
    "    posisi += \"defender,\"\n",
    "    if nomorPunggung > 90:\n",
    "        posisi += \"playmaker\"\n",
    "    if nomorPunggung % 3 == 0 and nomorPunggung % 5 == 0:\n",
    "        posisi += \"keeper,\"\n",
    "print(f\"kamu mempunyai pilihan posisi : {posisi}\")"
   ]
  },
  {
   "cell_type": "code",
   "execution_count": null,
   "id": "dde2fc34-6839-43f0-912b-46bc18c19161",
   "metadata": {},
   "outputs": [],
   "source": []
  }
 ],
 "metadata": {
  "kernelspec": {
   "display_name": "Python 3 (ipykernel)",
   "language": "python",
   "name": "python3"
  },
  "language_info": {
   "codemirror_mode": {
    "name": "ipython",
    "version": 3
   },
   "file_extension": ".py",
   "mimetype": "text/x-python",
   "name": "python",
   "nbconvert_exporter": "python",
   "pygments_lexer": "ipython3",
   "version": "3.12.9"
  }
 },
 "nbformat": 4,
 "nbformat_minor": 5
}
