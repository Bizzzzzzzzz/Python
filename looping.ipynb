{
 "cells": [
  {
   "cell_type": "markdown",
   "id": "854aa0d5-32f5-4dbb-af9d-7bd59761243f",
   "metadata": {},
   "source": [
    "<h4>for variable in collection</h4>"
   ]
  },
  {
   "cell_type": "code",
   "execution_count": 2,
   "id": "9a8e5e2e-9184-4d23-8a9f-70cd036dc2bd",
   "metadata": {},
   "outputs": [
    {
     "name": "stdout",
     "output_type": "stream",
     "text": [
      "Nama Buah : Apple\n",
      "Nama Buah : Banana\n",
      "Nama Buah : Watermelon\n",
      "Nama Buah : Pineapple\n"
     ]
    }
   ],
   "source": [
    "fruits = [\"Apple\", \"Banana\", \"Watermelon\", \"Pineapple\"]\n",
    "for fruit in fruits:\n",
    "    print(f\"Nama Buah : {fruit}\")"
   ]
  },
  {
   "cell_type": "code",
   "execution_count": 6,
   "id": "497d2a0e-d96d-4aec-82ba-47a85496abce",
   "metadata": {},
   "outputs": [
    {
     "name": "stdout",
     "output_type": "stream",
     "text": [
      "Nilai Rata-Rata : 71.42857142857143\n"
     ]
    }
   ],
   "source": [
    "#contoh:\n",
    "#Kelas TI24F punya data nilai pemrograman python 80, 100, 90, 70, 70, 50, 40\n",
    "#carilah nilai rata-rata nilai pemrograman python di kelas TI24F\n",
    "\n",
    "nilaiPython = [80, 100, 90, 70, 70, 50, 40]\n",
    "total = 0\n",
    "for nilai in nilaiPython:\n",
    "    total += nilai\n",
    "rata_rata = total / len(nilaiPython)\n",
    "print(f\"Nilai Rata-Rata : {rata_rata}\")"
   ]
  },
  {
   "cell_type": "code",
   "execution_count": 8,
   "id": "7da6d11d-1af0-40e2-b8f3-13cbaede0a40",
   "metadata": {},
   "outputs": [
    {
     "name": "stdout",
     "output_type": "stream",
     "text": [
      "0 : Jan\n",
      "1 : Feb\n",
      "2 : Mar\n",
      "3 : Apr\n",
      "4 : May\n",
      "5 : Jun\n",
      "6 : Jul\n",
      "7 : Aug\n",
      "8 : Sep\n",
      "9 : Oct\n",
      "10 : Nov\n",
      "11 : Dec\n"
     ]
    }
   ],
   "source": [
    "#Enumerate\n",
    "months = [\"Jan\", \"Feb\", \"Mar\", \"Apr\", \"May\", \"Jun\", \"Jul\", \"Aug\", \"Sep\", \"Oct\", \"Nov\", \"Dec\"]\n",
    "for i, m in enumerate(months):\n",
    "    print(f\"{i} : {m}\")"
   ]
  },
  {
   "cell_type": "code",
   "execution_count": 23,
   "id": "9b090466-ea3d-49fd-961f-0515e2c8b279",
   "metadata": {},
   "outputs": [
    {
     "name": "stdin",
     "output_type": "stream",
     "text": [
      "Isikan Nama Kampus : Nusa Putra\n"
     ]
    },
    {
     "name": "stdout",
     "output_type": "stream",
     "text": [
      "N adalah Bukan Huruf Vokal | Total : 0\n",
      "u adalah Huruf Vokal       | Total : 1\n",
      "s adalah Bukan Huruf Vokal | Total : 1\n",
      "a adalah Huruf Vokal       | Total : 2\n",
      "  adalah Bukan Huruf Vokal | Total : 2\n",
      "P adalah Bukan Huruf Vokal | Total : 2\n",
      "u adalah Huruf Vokal       | Total : 3\n",
      "t adalah Bukan Huruf Vokal | Total : 3\n",
      "r adalah Bukan Huruf Vokal | Total : 3\n",
      "a adalah Huruf Vokal       | Total : 4\n",
      "\n",
      "Jumlah total huruf vokal adalah : 4\n"
     ]
    }
   ],
   "source": [
    "kampus = input(\"Isikan Nama Kampus :\")\n",
    "listVokal = [\"a\", \"i\", \"u\", \"e\", \"o\", \"A\", \"I\", \"U\", \"E\", \"O\"]\n",
    "total = 0\n",
    "isVokal = \"\"\n",
    "for karakter in kampus:\n",
    "    if karakter in listVokal:\n",
    "        total += 1\n",
    "        isVokal = \"Huruf Vokal      \"\n",
    "    else:\n",
    "        isVokal = \"Bukan Huruf Vokal\"\n",
    "    print(f\"{karakter} adalah {isVokal} | Total : {total}\") #berapa banyak huruf vokal 'a'i'u'e'o'\n",
    "print(\"\")\n",
    "print(f\"Jumlah total huruf vokal adalah : {total}\")"
   ]
  },
  {
   "cell_type": "code",
   "execution_count": 22,
   "id": "4e83bf4e-f379-4b77-baa6-303c0c48d917",
   "metadata": {},
   "outputs": [
    {
     "name": "stdout",
     "output_type": "stream",
     "text": [
      "[1, 4, 9, 16, 25]\n"
     ]
    }
   ],
   "source": [
    "#looping list Comprehension\n",
    "data = [1,2,3,4,5]\n",
    "pangkat = [x ** 2 for x in data]\n",
    "print(pangkat)"
   ]
  },
  {
   "cell_type": "code",
   "execution_count": 25,
   "id": "63c37e41-18eb-4bd6-b332-5529e754941e",
   "metadata": {},
   "outputs": [
    {
     "name": "stdout",
     "output_type": "stream",
     "text": [
      "Nilai i adalah 0\n",
      "Nilai i adalah 1\n",
      "Nilai i adalah 2\n",
      "Nilai i adalah 3\n",
      "Nilai i adalah 4\n",
      "Nilai i adalah 5\n",
      "Nilai i adalah 6\n",
      "Nilai i adalah 7\n",
      "Nilai i adalah 8\n",
      "Nilai i adalah 9\n"
     ]
    }
   ],
   "source": [
    "#Range\n",
    "for i in range(10):\n",
    "    print(f\"Nilai i adalah : {i}\")"
   ]
  },
  {
   "cell_type": "code",
   "execution_count": 32,
   "id": "ae4a4983-ea4e-409a-8463-0cb4784379cc",
   "metadata": {},
   "outputs": [
    {
     "name": "stdout",
     "output_type": "stream",
     "text": [
      "Nilai j adalah : 5\n",
      "Nilai j adalah : 6\n",
      "Nilai j adalah : 7\n",
      "Nilai j adalah : 8\n",
      "Nilai j adalah : 9\n"
     ]
    }
   ],
   "source": [
    "for j in range(5,10):\n",
    "    print(f\"Nilai j adalah : {j}\")"
   ]
  },
  {
   "cell_type": "code",
   "execution_count": 36,
   "id": "64df39da-e65c-4943-804b-91a545222eb0",
   "metadata": {},
   "outputs": [
    {
     "name": "stdin",
     "output_type": "stream",
     "text": [
      "Isikan Bilangan : 7\n"
     ]
    },
    {
     "name": "stdout",
     "output_type": "stream",
     "text": [
      "7 adalah Bilangan Prima\n"
     ]
    }
   ],
   "source": [
    "#cek bilangan prima atau bukan prima\n",
    "number = int(input(\"Isikan Bilangan :\"))\n",
    "faktor = 0\n",
    "for i in range(1, number + 1):\n",
    "    if number % i == 0:\n",
    "        faktor += 1\n",
    "if faktor == 2:\n",
    "    print(f\"{number} adalah Bilangan Prima\")\n",
    "else:\n",
    "    print(f\"{number} adalah Bilangan bukan Prima\")"
   ]
  },
  {
   "cell_type": "code",
   "execution_count": 41,
   "id": "502847eb-968b-4e58-8eb6-bfc1ada40579",
   "metadata": {},
   "outputs": [
    {
     "name": "stdin",
     "output_type": "stream",
     "text": [
      "Isikan Bilangan : 4\n"
     ]
    },
    {
     "name": "stdout",
     "output_type": "stream",
     "text": [
      "4! = 24\n"
     ]
    }
   ],
   "source": [
    "#Faktorial\n",
    "# 3! = 3 x 2 x 1 = 6\n",
    "# 4! = 4 x 3 x 2 x 1 = 24\n",
    "\n",
    "total = 1\n",
    "number = int(input(\"Isikan Bilangan :\"))\n",
    "for i in range(1, number + 1):\n",
    "    total *= i\n",
    "print(f\"{number}! = {total}\")"
   ]
  },
  {
   "cell_type": "code",
   "execution_count": 43,
   "id": "b340a128-5b63-4b48-aa56-0572a4dd8ef8",
   "metadata": {},
   "outputs": [
    {
     "name": "stdin",
     "output_type": "stream",
     "text": [
      "Isikan Bilangan : 5\n"
     ]
    },
    {
     "name": "stdout",
     "output_type": "stream",
     "text": [
      "1 -2 3 -4 5 "
     ]
    }
   ],
   "source": [
    "# 1 -2 3 -4 5 -6 7 -8 9 -10\n",
    "number = int(input(\"Isikan Bilangan :\"))\n",
    "sign = 1\n",
    "for i in range(1, number + 1):\n",
    "    result = sign * i\n",
    "    print(f\"{result} \", end=\"\")\n",
    "    sign *= -1"
   ]
  },
  {
   "cell_type": "code",
   "execution_count": 47,
   "id": "981f5895-5395-4523-b18b-e19c04db36fc",
   "metadata": {},
   "outputs": [
    {
     "name": "stdout",
     "output_type": "stream",
     "text": [
      "jumlah penonton laki laki : 4\n",
      "jumlah penonton perempuan : 3\n"
     ]
    }
   ],
   "source": [
    "kursiBioskop = [\"L\",\"P\",\"P\",\"L\",\"L\",\"P\",\"L\"]\n",
    "\n",
    "#hitunh jumlah laki laki\n",
    "#hitung jumlah perempuan\n",
    "\n",
    "totalLaki = 0\n",
    "for jenis in kursiBioskop:\n",
    "    if jenis == \"L\":\n",
    "        totalLaki += 1\n",
    "print(f\"jumlah penonton laki laki : {totalLaki}\")\n",
    "print(f\"jumlah penonton perempuan : {len(kursiBioskop) - (totalLaki)}\")"
   ]
  },
  {
   "cell_type": "code",
   "execution_count": 52,
   "id": "ae29ef4b-a27e-42ed-b387-c199766df8bf",
   "metadata": {},
   "outputs": [
    {
     "name": "stdout",
     "output_type": "stream",
     "text": [
      "4\n"
     ]
    }
   ],
   "source": [
    "#hitung jumlah kursi\n",
    "kursi = [\"L\",\"P\",\"P\",\"L\",\"L\",\"P\",\"L\"]\n",
    "totalCouple = 0\n",
    "for i in range(len(kursi)-1):\n",
    "    if kursi[i] != kursi[i+1]:\n",
    "        totalCouple += 1\n",
    "print(totalCouple)    "
   ]
  },
  {
   "cell_type": "code",
   "execution_count": 53,
   "id": "d05be8f7-0c2c-4057-87c7-b77c785e1a03",
   "metadata": {},
   "outputs": [
    {
     "name": "stdout",
     "output_type": "stream",
     "text": [
      "lname : Rangga\n",
      "gname : Desur\n",
      "hname : Aril\n",
      "kname : Charel\n"
     ]
    }
   ],
   "source": [
    "data = {\n",
    "    \"lname\" : \"Rangga\", \n",
    "    \"gname\" : \"Desur\", \n",
    "    \"hname\" : \"Aril\",\n",
    "    \"kname\" : \"Charel\"\n",
    "}\n",
    "for key,value in data.items():\n",
    "    print(f\"{key} : {value}\")"
   ]
  },
  {
   "cell_type": "code",
   "execution_count": null,
   "id": "1e487edf-8e83-40b0-a1f1-977c43ef5e60",
   "metadata": {},
   "outputs": [],
   "source": [
    "tahu = [10,10,10,10,10,10]\n",
    "\n",
    "#harga 1 tahu = 2000\n",
    "#jika beli 15\n",
    "#output : total bayar = 30000\n"
   ]
  }
 ],
 "metadata": {
  "kernelspec": {
   "display_name": "Python 3 (ipykernel)",
   "language": "python",
   "name": "python3"
  },
  "language_info": {
   "codemirror_mode": {
    "name": "ipython",
    "version": 3
   },
   "file_extension": ".py",
   "mimetype": "text/x-python",
   "name": "python",
   "nbconvert_exporter": "python",
   "pygments_lexer": "ipython3",
   "version": "3.12.9"
  }
 },
 "nbformat": 4,
 "nbformat_minor": 5
}
