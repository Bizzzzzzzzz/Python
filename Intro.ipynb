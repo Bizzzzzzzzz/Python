{
 "cells": [
  {
   "cell_type": "markdown",
   "id": "f79f7f80-cbcc-4eca-b06d-34fc2246fa9a",
   "metadata": {},
   "source": [
    "<center>\n",
    "    <img src=\"https://logohistory.net/wp-content/uploads/2023/06/Python-Emblem.png\" width=200>\n",
    "</center>\n",
    "<br>\n",
    "jenis cell di <b>jupyter notebook</b> ada 2\n",
    "<ol>\n",
    "    <li>Mark Down (M)</li>\n",
    "    <li>Code (C)</li>\n",
    "</ol>\n",
    "<hr>"
   ]
  },
  {
   "cell_type": "markdown",
   "id": "7912998c-719a-42a6-9405-8423f93023db",
   "metadata": {},
   "source": [
    "Cara menambah cell ada 2:\n",
    "<ul>\n",
    "    <li>Above (A)</li>\n",
    "    <li>Below (B)</li>\n",
    "</ul>\n",
    "\n",
    "<table>\n",
    "    <tr>\n",
    "        <th>Perintah</th>\n",
    "        <th>Keterangan</th>\n",
    "    </tr>\n",
    "    <tr>\n",
    "        <td>Ctrl + Enter</td>\n",
    "        <td>Running dan fokus di cell</td>\n",
    "    </tr>\n",
    "    <tr>\n",
    "        <td>Shift + Enter</td>\n",
    "        <td>Running dan fokus di cell berikutnya</td>\n",
    "    </tr>\n",
    "</table>"
   ]
  },
  {
   "cell_type": "code",
   "execution_count": 14,
   "id": "f01c9c16-c826-47fe-9815-f8e083f33668",
   "metadata": {},
   "outputs": [
    {
     "name": "stdout",
     "output_type": "stream",
     "text": [
      "Python is very easy\n",
      "Data\n",
      "5\n",
      "Sekarang hari Jum'at\n",
      "Deklarasi variable \"A\"\n",
      "15\n",
      "10\n"
     ]
    },
    {
     "data": {
      "text/plain": [
       "'10'"
      ]
     },
     "execution_count": 14,
     "metadata": {},
     "output_type": "execute_result"
    }
   ],
   "source": [
    "print(\"Python is very easy\")\n",
    "data = 5\n",
    "data2 = \"10\"\n",
    "print(\"Data\")\n",
    "print(data)\n",
    "print(\"Sekarang hari Jum'at\")\n",
    "print('Deklarasi variable \"A\"')\n",
    "print(data + int(data2))\n",
    "print(data2)\n",
    "data2\n",
    "data + 100"
   ]
  }
 ],
 "metadata": {
  "kernelspec": {
   "display_name": "Python 3 (ipykernel)",
   "language": "python",
   "name": "python3"
  },
  "language_info": {
   "codemirror_mode": {
    "name": "ipython",
    "version": 3
   },
   "file_extension": ".py",
   "mimetype": "text/x-python",
   "name": "python",
   "nbconvert_exporter": "python",
   "pygments_lexer": "ipython3",
   "version": "3.12.9"
  }
 },
 "nbformat": 4,
 "nbformat_minor": 5
}
